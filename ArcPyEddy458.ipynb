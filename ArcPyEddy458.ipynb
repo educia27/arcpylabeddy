{
 "cells": [
  {
   "cell_type": "markdown",
   "metadata": {},
   "source": [
    "Eddy Tamayo GEOG 458 Arcpy lab\n",
    "\n",
    "For each county in Washington, create a GeoJSON file whose filename is the county name and whose contents are the polygons for the block groups within that county. This means that you will end up with as many GeoJSON files as there are counties in WA. Each such file should be named after a county and contain only the block groups from that county."
   ]
  },
  {
   "cell_type": "code",
   "execution_count": 1,
   "metadata": {},
   "outputs": [],
   "source": [
    "#Setting up files to work with\n",
    "import sys\n",
    "sys.path.append('C:\\\\Program Files (x86)\\\\ArcGIS\\\\Desktop10.5\\\\bin')\n",
    "sys.path.append('C:\\\\Program Files (x86)\\\\ArcGIS\\\\Desktop10.5\\\\arcpy')\n",
    "sys.path.append('C:\\\\Program Files (x86)\\\\ArcGIS\\\\Desktop10.5\\\\ArcToolbox\\\\Scripts')\n",
    "import arcpy\n",
    "\n",
    "arcpy.env.overwriteOutput = True    #arcpy environment is being set in order to code"
   ]
  },
  {
   "cell_type": "code",
   "execution_count": 26,
   "metadata": {},
   "outputs": [],
   "source": [
    "#I am setting up a copy of my shapefile while also creating fc = my saep_bg10 shapefile / I decided to work on my C drive\n",
    "from arcpy import env\n",
    "env.workspace = \"C:/arcpy458/saep_bg10\"\n",
    "saep = \"saep_bg10.shp\"\n",
    "\n",
    "arcpy.management.CopyFeatures(\n",
    "    \"C:\\\\arcpy458\\\\saep_bg10.shp\",\n",
    "    \"C:\\\\arcpy458\\\\saep_bg10_copy.shp\") # copies features from the input feature class to a new feature class.\n",
    "\n",
    "fc= \"C:\\\\arcpy458\\\\saep_bg10_copy.shp\"  #setting up a variable that is equal to the feature class file within my workspace"
   ]
  },
  {
   "cell_type": "code",
   "execution_count": 32,
   "metadata": {
    "scrolled": true
   },
   "outputs": [
    {
     "data": {
      "text/plain": [
       "<Result 'C:\\\\arcpy458\\\\saep_bg10_copy.shp'>"
      ]
     },
     "execution_count": 32,
     "metadata": {},
     "output_type": "execute_result"
    }
   ],
   "source": [
    "fc= \"C:\\\\arcpy458\\\\saep_bg10_copy.shp\"\n",
    "arcpy.AddField_management(fc, \"FIPSCounty\",\"TEXT\")\n",
    "# I am adding the field FIPSCounty to my saep_bg10 file / The type of measurement is a TEXT\n",
    "# adding a new field to my feature class -attribute table now has FIPSCounty listed as a field with no values\n"
   ]
  },
  {
   "cell_type": "code",
   "execution_count": 33,
   "metadata": {},
   "outputs": [
    {
     "data": {
      "text/plain": [
       "<Result 'C:\\\\arcpy458\\\\saep_bg10_copy.shp'>"
      ]
     },
     "execution_count": 33,
     "metadata": {},
     "output_type": "execute_result"
    }
   ],
   "source": [
    "fc= \"C:\\\\arcpy458\\\\saep_bg10_copy.shp\"\n",
    "arcpy.AddField_management(fc, \"CountyName\",\"TEXT\")\n",
    "#adding CountyNAme to my feature class - attribute table now has CountyName with measurement value as a TEXT"
   ]
  },
  {
   "cell_type": "code",
   "execution_count": 42,
   "metadata": {
    "collapsed": true
   },
   "outputs": [],
   "source": [
    "table = \"C:\\\\arcpy458\\\\WashingtonFIPS.dbf\" # I need to create a variable that would be equal to my WashingtonFIPS table\n",
    "# I can then use table to do a join field within ArcPy\n",
    "# \"table\" creates a path for the table file i will use"
   ]
  },
  {
   "cell_type": "code",
   "execution_count": 44,
   "metadata": {},
   "outputs": [
    {
     "data": {
      "text/plain": [
       "<Result 'C:\\\\arcpy458\\\\saep_bg10_copy.shp'>"
      ]
     },
     "execution_count": 44,
     "metadata": {},
     "output_type": "execute_result"
    }
   ],
   "source": [
    "join_table = \"C:\\\\arcpy458\\\\WashingtonFIPS.dbf\"\n",
    "arcpy.JoinField_management (fc,\"COUNTYFP10\",table,\"FIPSCounty\",[\"CountyName\"])\n",
    "#I am joining the contents of a table to another table based on a common attribute field\n",
    "#CountyFP10 and FIPSCounty are the similar attribute fields\n",
    "#the input table is updated to contain the fields from the WashingtonFIPS.dbf table"
   ]
  },
  {
   "cell_type": "code",
   "execution_count": 52,
   "metadata": {},
   "outputs": [
    {
     "data": {
      "text/plain": [
       "<Result 'C:\\\\arcpy458\\\\new_blocks.shp'>"
      ]
     },
     "execution_count": 52,
     "metadata": {},
     "output_type": "execute_result"
    }
   ],
   "source": [
    "#creates a feature class within my arcpy458 folder\n",
    "arcpy.CreateFeatureclass_management(\"C:\\\\arcpy458\\\\\",\"new_blocks.shp\",\"polygon\",\"C:\\\\arcpy458\\\\saep_bg10_copy.shp\")\n",
    "# this management tool created an empty feature class -However, there is no geometry yet for this shapefile\n"
   ]
  },
  {
   "cell_type": "code",
   "execution_count": 71,
   "metadata": {
    "scrolled": true
   },
   "outputs": [
    {
     "name": "stdout",
     "output_type": "stream",
     "text": [
      "[u'Adams', u'Asotin', u'Benton', u'Chelan', u'Clallam', u'Clark', u'Columbia', u'Cowlitz', u'Douglas', u'Ferry', u'Franklin', u'Garfield', u'Grant', u'Grays Harbor', u'Island', u'Jefferson', u'King', u'Kitsap', u'Kittitas', u'Klickitat', u'Lewis', u'Lincoln', u'Mason', u'Okanogan', u'Pacific', u'Pend Oreille', u'Pierce', u'San Juan', u'Skagit', u'Skamania', u'Snohomish', u'Spokane', u'Stevens', u'Thurston', u'Wahkiakum', u'Walla Walla', u'Whatcom', u'Whitman', u'Yakima']\n"
     ]
    }
   ],
   "source": [
    "my_list = []\n",
    "cursor = arcpy.da.SearchCursor(table, [\"CountyName\"])\n",
    "for row in cursor:\n",
    "                               # a search cursor is needed to look up all the county names within the attribute table.\n",
    "    my_list.append(row[0])     # I used a for loop in order to create a list of all the counties \n",
    "                               # within the table. My_list append is created from the CountyName field\n",
    "                               #my_list is set up so the program knows where my list is going to\n",
    "    \n",
    "                                # Printed a list of all the counties in alphebetical order\n",
    "                                # for every county in the list, I must then create a shapefile\n",
    "                                # for it. For every row in the table  if county name = county, i insert that row\n",
    "del cursor\n",
    "\n",
    "print my_list"
   ]
  },
  {
   "cell_type": "code",
   "execution_count": 75,
   "metadata": {},
   "outputs": [],
   "source": [
    "for County in my_list:\n",
    "    arcpy.FeatureClassToFeatureClass_conversion(fc, \"C:\\\\arcpy458\\\\\", str(County), '\"CountyNa_1\" = ' + \"'%s'\" %County)\n",
    "                 #This creates a shapfile for every CountyName within the attribute table.                                \n",
    "                                                 "
   ]
  },
  {
   "cell_type": "code",
   "execution_count": 6,
   "metadata": {
    "collapsed": true
   },
   "outputs": [],
   "source": [
    "ogr_dir = 'OSGeo4W' \n",
    "\n",
    "from subprocess import call\n",
    "import os\n",
    "\n",
    "os.environ[\"GDAL_DATA\"] = \"C:\\\\OSGeo4W64\\\\share\\\\gdal\"\n",
    "os.environ[\"GDAL_DRIVER_PATH\"] = \"C:\\\\OSGeo4W64\\\\bin\\\\gdalplugins\"\n",
    "os.environ[\"PROJ_LIB\"] = \"C:\\\\OSGeo4W64\\\\share\\\\proj\"\n",
    "os.environ[\"PATH\"] = \"C:\\\\OSGeo4W64\\\\bin;\"+os.environ[\"PATH\"]+\";C:\\\\OSGeo4W64\\\\apps\\\\msys\\\\bin;C:\\\\OSGeo4W64\\\\apps\\\\Python27\\\\Scripts\"\n",
    "#This sets up the environment variables for GDAL/OGR\n",
    "#Producing GEOJSON files out of ArcPy Data\n",
    "#This code helps to convert to geojson files "
   ]
  },
  {
   "cell_type": "code",
   "execution_count": 77,
   "metadata": {},
   "outputs": [],
   "source": [
    "for County in my_list:\n",
    "    call(['C:\\\\OSGeo4W64\\\\bin\\\\ogr2ogr',    # converting shapefiles into GeoJSON files \n",
    "          '-f','GeoJSON','-t_srs','WGS84',  # EPSG edited to 2927\n",
    "          '-s_srs','EPSG:2927',\n",
    "          'C:\\\\arcpy458\\\\'+ County +'.geojson',\n",
    "          'C:\\\\arcpy458\\\\'+ County +'.shp'])\n",
    "    # For every county in my list, there is a geojson file being created for every county that\n",
    "    # has a shapefile. \"county\" is the name for all counties in my_list. This is considered a for loop\n",
    "    # to search for every county and establish a geojson file "
   ]
  },
  {
   "cell_type": "markdown",
   "metadata": {},
   "source": [
    "Print out a ranked list, in descending order, of the ten largest total populations in 2017 of counties in Washington, according to this dataset."
   ]
  },
  {
   "cell_type": "code",
   "execution_count": 110,
   "metadata": {},
   "outputs": [
    {
     "name": "stdout",
     "output_type": "stream",
     "text": [
      "2153700.0\n",
      "859400.0\n",
      "789400.0\n",
      "499800.0\n",
      "471000.0\n",
      "276900.0\n",
      "264300.0\n",
      "253000.0\n",
      "216300.0\n",
      "193500.0\n"
     ]
    }
   ],
   "source": [
    "pop_list = []\n",
    "for County in my_list:    # creating a pop list from county in my list to get the POP2017 values needed.\n",
    "    pop = 0               #Search cursor is needed to find which field in the attribute table I\n",
    "                          # will pull out information from. POP2017 field will be used\n",
    "    cursor = arcpy.da.SearchCursor(fc, [\"POP2017\"], '\"CountyNa_1\" = ' + \"'%s'\" % County)\n",
    "\n",
    "    for row in cursor:\n",
    "        pop += row[0]\n",
    "    pop_list.append(pop)   #This is considered a loop where it is looking for POP2017 values\n",
    "\n",
    "pop_list.sort(reverse=True) # distinguishes from ascending and descending in terms of the order we want the pop values in.\n",
    "i = 0\n",
    "while i < 10:\n",
    "    print pop_list[i]  # this while statement prints out the values in the correct order\n",
    "    i += 1\n",
    "    "
   ]
  },
  {
   "cell_type": "markdown",
   "metadata": {},
   "source": [
    "This lab took me about 14 hours to complete. This was a good introduction in terms of actually putting in to use the material we have learned so far. Their were moments of frustration but this lab made me learn useful python scripting skills. I initially did not know where to begin considering I dont have prior coding/scripting experience so it did feel a little overwhelming at first. I incorporated loops, nested loops, etc. I started off by setting up my variables for the feature classes as well as my WashingtonFIPS.dbf table.I then incorporated those variables to come up with results using cursors. The search cursors were helpful in terms of finding the relevant fields and values to answer both problems. I spoke with Luis about this lab and discussed how to tackle this lab in an efficient manner."
   ]
  },
  {
   "cell_type": "code",
   "execution_count": null,
   "metadata": {
    "collapsed": true
   },
   "outputs": [],
   "source": []
  }
 ],
 "metadata": {
  "kernelspec": {
   "display_name": "Python 2",
   "language": "python",
   "name": "python2"
  },
  "language_info": {
   "codemirror_mode": {
    "name": "ipython",
    "version": 2
   },
   "file_extension": ".py",
   "mimetype": "text/x-python",
   "name": "python",
   "nbconvert_exporter": "python",
   "pygments_lexer": "ipython2",
   "version": "2.7.14"
  }
 },
 "nbformat": 4,
 "nbformat_minor": 2
}
